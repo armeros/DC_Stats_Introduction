{
  "nbformat": 4,
  "nbformat_minor": 0,
  "metadata": {
    "colab": {
      "name": "Intro_to_Stats",
      "provenance": [],
      "collapsed_sections": []
    },
    "kernelspec": {
      "name": "python3",
      "display_name": "Python 3"
    },
    "language_info": {
      "name": "python"
    }
  },
  "cells": [
    {
      "cell_type": "markdown",
      "source": [
        "### ***Mean and median***\n",
        "\n",
        "In this chapter, you'll be working with the [2018 Food Carbon Footprint Index](https://www.nu3.de/blogs/nutrition/food-carbon-footprint-index-2018) from nu3. The `food_consumption` dataset contains information about the kilograms of food consumed per person per year in each country in each food category (`consumption`) as well as information about the carbon footprint of that food category (`co2_emissions`) measured in kilograms of carbon dioxide, or $CO_2$, per person per year in each country.\n",
        "\n",
        "* Create two DataFrames: one that holds the rows of `food_consumption` for `'Belgium'` and another that holds rows for `'USA'`. Call these `be_consumption` and `usa_consumption`.\n",
        "* Calculate the mean and median of kilograms of food consumed per person per year for both countries."
      ],
      "metadata": {
        "id": "oG3sD9LptAXX"
      }
    },
    {
      "cell_type": "code",
      "execution_count": null,
      "metadata": {
        "colab": {
          "base_uri": "https://localhost:8080/"
        },
        "id": "0kynXWtkImui",
        "outputId": "cef4b324-ea69-4802-fa0e-fd9ffb39eeb4"
      },
      "outputs": [
        {
          "output_type": "stream",
          "name": "stdout",
          "text": [
            "42.132727272727266\n",
            "12.59\n",
            "44.650000000000006\n",
            "14.58\n"
          ]
        }
      ],
      "source": [
        "import numpy as np\n",
        "import pandas as pd\n",
        "\n",
        "food_consumption = pd.read_csv('food_consumption.csv').drop(columns='Unnamed: 0')\n",
        "\n",
        "# Filter for Belgium\n",
        "be_consumption = food_consumption[food_consumption['country']=='Belgium']\n",
        "\n",
        "# Filter for USA\n",
        "usa_consumption = food_consumption[food_consumption['country']=='USA']\n",
        "\n",
        "# Calculate mean and median consumption in Belgium\n",
        "print(np.mean(be_consumption['consumption']))\n",
        "print(np.median(be_consumption['consumption']))\n",
        "\n",
        "# Calculate mean and median consumption in USA\n",
        "print(np.mean(usa_consumption['consumption']))\n",
        "print(np.median(usa_consumption['consumption']))\n"
      ]
    },
    {
      "cell_type": "markdown",
      "source": [
        "* Subset `food_consumption` for rows with data about Belgium and the USA.\n",
        "\n",
        "* Group the subsetted data by `country` and select only the consumption column.\n",
        "\n",
        "* Calculate the mean and median of the kilograms of food consumed per person per year in each country using `.agg()`."
      ],
      "metadata": {
        "id": "jedv93AFu7dj"
      }
    },
    {
      "cell_type": "code",
      "source": [
        "# Subset for Belgium and USA only\n",
        "be_and_usa = food_consumption[(food_consumption['country'] == 'Belgium') | (food_consumption['country'] == 'USA')]\n",
        "\n",
        "# Group by country, select consumption column, and compute mean and median\n",
        "print(be_and_usa.groupby('country')['consumption'].agg([np.mean, np.median]))"
      ],
      "metadata": {
        "colab": {
          "base_uri": "https://localhost:8080/"
        },
        "id": "rX2b8phcuvgg",
        "outputId": "fe00b3f2-20a7-4514-9257-555e86224760"
      },
      "execution_count": null,
      "outputs": [
        {
          "output_type": "stream",
          "name": "stdout",
          "text": [
            "              mean  median\n",
            "country                   \n",
            "Belgium  42.132727   12.59\n",
            "USA      44.650000   14.58\n"
          ]
        }
      ]
    },
    {
      "cell_type": "markdown",
      "source": [
        " When you want to compare summary statistics between groups, it's much easier to use **`.groupby()`** and **`.agg()`** instead of subsetting and calling the same functions multiple times."
      ],
      "metadata": {
        "id": "v1fAm05VwEqf"
      }
    },
    {
      "cell_type": "markdown",
      "source": [
        "### ***Mean vs. median***\n",
        "\n",
        "In the video, you learned that the mean is the sum of all the data points divided by the total number of data points, and the median is the middle value of the dataset where 50% of the data is less than the median, and 50% of the data is greater than the median. In this exercise, you'll compare these two measures of center.\n",
        "\n",
        "* Subset `food_consumption` to get the rows where `food_category` is `'rice'`.\n",
        "* Create a histogram of `co2_emission` for `rice` and show the plot.\n",
        "* Use **`.agg()`** to calculate the mean and median of `co2_emission` for `rice`."
      ],
      "metadata": {
        "id": "ZLZfrz1UwWJ1"
      }
    },
    {
      "cell_type": "code",
      "source": [
        "import matplotlib.pyplot as plt\n",
        "import numpy as np\n",
        "import pandas as pd\n",
        "\n",
        "food_consumption = pd.read_csv('food_consumption.csv').drop(columns='Unnamed: 0')\n",
        "\n",
        "\n",
        "# Subset for food_category equals rice\n",
        "rice_consumption = food_consumption[food_consumption['food_category'] == 'rice']\n",
        "\n",
        "# Histogram of co2_emission for rice and show plot\n",
        "rice_consumption['co2_emission'].hist()\n",
        "\n",
        "\n",
        "# Subset for food_category equals rice\n",
        "rice_consumption = food_consumption[food_consumption['food_category'] == 'rice']\n",
        "\n",
        "# Calculate mean and median of co2_emission with .agg()\n",
        "print(rice_consumption['co2_emission'].agg([np.mean, np.median]))\n",
        "plt.axvline(x=37.591615, linestyle='--', label='mean', color='black')\n",
        "plt.axvline(x=15.200000, linestyle='--', label='median', color='red')\n",
        "plt.legend()\n",
        "plt.show()"
      ],
      "metadata": {
        "colab": {
          "base_uri": "https://localhost:8080/",
          "height": 319
        },
        "id": "5REhsFCQwRla",
        "outputId": "84a60b0b-4db7-432c-ec04-e075e3e0766a"
      },
      "execution_count": null,
      "outputs": [
        {
          "output_type": "stream",
          "name": "stdout",
          "text": [
            "mean      37.591615\n",
            "median    15.200000\n",
            "Name: co2_emission, dtype: float64\n"
          ]
        },
        {
          "output_type": "display_data",
          "data": {
            "text/plain": [
              "<Figure size 432x288 with 1 Axes>"
            ],
            "image/png": "[encoded data removed]"
          },
          "metadata": {
            "needs_background": "light"
          }
        }
      ]
    },
    {
      "cell_type": "markdown",
      "source": [
        "### ***Quartiles, quantiles, and quintiles***\n",
        "\n",
        "Quantiles are a great way of summarizing numerical data since they can be used to measure center and spread, as well as to get a sense of where a data point stands in relation to the rest of the data set. For example, you might want to give a discount to the 10% most active users on a website.\n",
        "\n",
        "In this exercise, you'll calculate quartiles, quintiles, and deciles, which split up a dataset into 4, 5, and 10 pieces, respectively.\n",
        "\n",
        "* Calculate the quartiles of the `co2_emission` column of `food_consumption`.\n",
        "\n",
        "* Calculate the six quantiles that split up the data into 5 pieces (quintiles) of the `co2_emission` column of `food_consumption`.\n",
        "\n",
        "* Calculate the eleven quantiles of `co2_emission` that split up the data into ten pieces (deciles)."
      ],
      "metadata": {
        "id": "Mv2T_eAf0tp9"
      }
    },
    {
      "cell_type": "code",
      "source": [
        "import numpy as np\n",
        "import pandas as pd\n",
        "\n",
        "food_consumption = pd.read_csv('food_consumption.csv').drop(columns='Unnamed: 0')\n",
        "\n",
        "# Calculate the quartiles of co2_emission\n",
        "print(np.quantile(food_consumption['co2_emission'], np.linspace(0, 1, 5)))\n",
        "\n",
        "# Calculate the quintiles of co2_emission\n",
        "print(np.quantile(food_consumption['co2_emission'], np.linspace(0, 1, 6)))\n",
        "\n",
        "# Calculate the deciles of co2_emission\n",
        "print(np.quantile(food_consumption['co2_emission'], np.linspace(0, 1, 11)))"
      ],
      "metadata": {
        "colab": {
          "base_uri": "https://localhost:8080/"
        },
        "id": "PawhYoQLxOZ_",
        "outputId": "af1086f3-c836-4e1c-ebe3-a86592622960"
      },
      "execution_count": null,
      "outputs": [
        {
          "output_type": "stream",
          "name": "stdout",
          "text": [
            "[   0.        5.21     16.53     62.5975 1712.    ]\n",
            "[   0.       3.54    11.026   25.59    99.978 1712.   ]\n",
            "[0.00000e+00 6.68000e-01 3.54000e+00 7.04000e+00 1.10260e+01 1.65300e+01\n",
            " 2.55900e+01 4.42710e+01 9.99780e+01 2.03629e+02 1.71200e+03]\n"
          ]
        }
      ]
    },
    {
      "cell_type": "markdown",
      "source": [
        "While calculating more quantiles gives you a more detailed look at the data, it also produces more numbers, making the summary more difficult to quickly understand.\n",
        "\n",
        "### ***Variance and standard deviation***\n",
        "\n",
        "***Variance*** and ***standard deviation*** are two of the most common ways to measure the spread of a variable. Spread is important since it can help inform expectations. For example, if a salesperson sells a mean of 20 products a day, but has a standard deviation of 10 products, there will probably be days where they sell 40 products, but also days where they only sell one or two. Information like this is important, especially when making predictions.\n",
        "\n",
        "* Calculate the variance and standard deviation of `co2_emission` for each `food_category` by grouping and aggregating.\n",
        "* Create a histogram of `co2_emission` for the beef `food_category`.\n",
        "* Create a histogram of `co2_emission` for the eggs `food_category`."
      ],
      "metadata": {
        "id": "NuI2vTPm22BT"
      }
    },
    {
      "cell_type": "code",
      "source": [
        "import matplotlib.pyplot as plt\n",
        "import numpy as np\n",
        "import pandas as pd\n",
        "\n",
        "food_consumption = pd.read_csv('food_consumption.csv').drop(columns='Unnamed: 0')\n",
        "\n",
        "fig, ax = plt.subplots(1, 2, figsize=(20, 6))\n",
        "\n",
        "# Print variance and sd of co2_emission for each food_category\n",
        "print(food_consumption.groupby('food_category')['co2_emission'].agg([np.var, np.std]))\n",
        "\n",
        "food_consumption[food_consumption['food_category'] == 'beef'].hist(ax=ax[0])\n",
        "\n",
        "food_consumption[food_consumption['food_category'] == 'eggs'].hist(ax=ax[1])\n",
        "plt.show()"
      ],
      "metadata": {
        "colab": {
          "base_uri": "https://localhost:8080/",
          "height": 647
        },
        "id": "VZArF0ZY2OXA",
        "outputId": "d1f9f3ba-b248-4e92-9ff1-954e02a720f1"
      },
      "execution_count": null,
      "outputs": [
        {
          "output_type": "stream",
          "name": "stdout",
          "text": [
            "                        var         std\n",
            "food_category                          \n",
            "beef           88748.408132  297.906710\n",
            "dairy          17671.891985  132.935669\n",
            "eggs              21.371819    4.622966\n",
            "fish             921.637349   30.358481\n",
            "lamb_goat      16475.518363  128.356996\n",
            "nuts              35.639652    5.969895\n",
            "pork            3094.963537   55.632396\n",
            "poultry          245.026801   15.653332\n",
            "rice            2281.376243   47.763754\n",
            "soybeans           0.879882    0.938020\n",
            "wheat             71.023937    8.427570\n"
          ]
        },
        {
          "output_type": "stream",
          "name": "stderr",
          "text": [
            "/usr/local/lib/python3.7/dist-packages/ipykernel_launcher.py:12: UserWarning: To output multiple subplots, the figure containing the passed axes is being cleared\n",
            "  if sys.path[0] == '':\n",
            "/usr/local/lib/python3.7/dist-packages/ipykernel_launcher.py:14: UserWarning: To output multiple subplots, the figure containing the passed axes is being cleared\n",
            "  \n"
          ]
        },
        {
          "output_type": "display_data",
          "data": {
            "text/plain": [
              "<Figure size 1440x432 with 2 Axes>"
            ],
            "image/png": "[encoded data removed]"
          },
          "metadata": {
            "needs_background": "light"
          }
        }
      ]
    },
    {
      "cell_type": "markdown",
      "source": [
        "Beef has the largest amount of variation in its CO2 emissions, while eggs have a relatively small amount of variation.\n",
        "\n",
        "### ***Finding outliers using IQR***\n",
        "\n",
        "Outliers can have big effects on statistics like mean, as well as statistics that rely on the mean, such as variance and standard deviation. Interquartile range, or IQR, is another way of measuring spread that's less influenced by outliers. IQR is also often used to find outliers. If a value is less than  $Q1-1.5\\times IQR$ or greater than $Q3+1.5\\times IQR$, it's considered an outlier. In fact, this is how the lengths of the whiskers in a matplotlib box plot are calculated.\n",
        "\n",
        "![image.png](data:image/png;base64,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)\n",
        "\n",
        "* Calculate the total `co2_emission` per country by grouping by country and taking the sum of `co2_emission`. Store the resulting DataFrame as `emissions_by_country`.\n",
        "\n",
        "* Compute the first and third quartiles of `emissions_by_country` and store these as `q1` and `q3`.\n",
        "* Calculate the interquartile range of `emissions_by_country` and store it as `iqr`.\n",
        "* Calculate the lower and upper cutoffs for outliers of `emissions_by_country`, and store these as `lower` and `upper`.\n",
        "* Subset `emissions_by_country` to get countries with a total emission greater than the `upper` cutoff or a total emission less than the `lower` cutoff."
      ],
      "metadata": {
        "id": "dFhHzDkE5FPH"
      }
    },
    {
      "cell_type": "code",
      "source": [
        "import numpy as np\n",
        "import pandas as pd\n",
        "\n",
        "food_consumption = pd.read_csv('food_consumption.csv').drop(columns='Unnamed: 0')\n",
        "\n",
        "# Calculate total co2_emission per country: emissions_by_country\n",
        "emissions_by_country = food_consumption.groupby('country')['co2_emission'].sum()\n",
        "\n",
        "# Compute the first and third quantiles and IQR of emissions_by_country\n",
        "q1 = np.quantile(emissions_by_country, 0.25)\n",
        "q3 = np.quantile(emissions_by_country, 0.75)\n",
        "iqr = q3 - q1\n",
        "\n",
        "# Calculate the lower and upper cutoffs for outliers\n",
        "lower = q1 - 1.5 * iqr\n",
        "upper = q3 + 1.5 * iqr\n",
        "\n",
        "# Subset emissions_by_country to find outliers\n",
        "outliers = emissions_by_country[(emissions_by_country < lower) | (emissions_by_country > upper)]\n",
        "print(outliers)"
      ],
      "metadata": {
        "colab": {
          "base_uri": "https://localhost:8080/"
        },
        "id": "-lpxdexS2ZtP",
        "outputId": "d17f7940-7f1d-449c-ee51-4f55ea5dd2fe"
      },
      "execution_count": null,
      "outputs": [
        {
          "output_type": "stream",
          "name": "stdout",
          "text": [
            "country\n",
            "Argentina    2172.4\n",
            "Name: co2_emission, dtype: float64\n"
          ]
        }
      ]
    },
    {
      "cell_type": "markdown",
      "source": [
        " It looks like Argentina has a substantially higher amount of CO2 emissions per person than other countries in the world.\n",
        "\n",
        "# ***Sampling with/without replacement in Python***\n",
        "\n",
        "`df.counts.sample(5, replace=True)`\n",
        "\n",
        "### ***Calculating probabilities***\n",
        "\n",
        "You're in charge of the sales team, and it's time for performance reviews, starting with Amir. As part of the review, you want to randomly select a few of the deals that he's worked on over the past year so that you can look at them more deeply. Before you start selecting deals, you'll first figure out what the chances are of selecting certain deals.\n",
        "\n",
        "Recall that the probability of an event can be calculated by\n",
        " \n",
        " $$Prob(\\text{event}) = \\frac{\\text{# ways event can happen}}{\\text{total # of possible outcomes}}$$\n",
        "\n",
        "\n",
        "* Count the number of deals Amir worked on for each `product` type and store in `counts`.\n",
        "* Calculate the probability of selecting a deal for the different product types by dividing the counts by the total number of deals Amir worked on. Save this as `probs`."
      ],
      "metadata": {
        "id": "DIhEmX6w7plh"
      }
    },
    {
      "cell_type": "code",
      "source": [
        "import numpy as np\n",
        "import pandas as pd\n",
        "\n",
        "amir_deals = pd.read_csv('amir_deals.csv').drop(columns='Unnamed: 0')\n",
        "\n",
        "# Count the deals for each product\n",
        "counts = amir_deals['product'].value_counts()\n",
        "\n",
        "# Calculate probability of picking a deal with each product\n",
        "probs = counts / len(amir_deals)\n",
        "print(probs)"
      ],
      "metadata": {
        "colab": {
          "base_uri": "https://localhost:8080/"
        },
        "id": "-0HHIs_07hcC",
        "outputId": "3450fd59-5d55-4857-a171-eb8d7ac56700"
      },
      "execution_count": null,
      "outputs": [
        {
          "output_type": "stream",
          "name": "stdout",
          "text": [
            "Product B    0.348315\n",
            "Product D    0.224719\n",
            "Product A    0.129213\n",
            "Product C    0.084270\n",
            "Product F    0.061798\n",
            "Product H    0.044944\n",
            "Product I    0.039326\n",
            "Product E    0.028090\n",
            "Product N    0.016854\n",
            "Product G    0.011236\n",
            "Product J    0.011236\n",
            "Name: product, dtype: float64\n"
          ]
        }
      ]
    },
    {
      "cell_type": "markdown",
      "source": [
        "### ***Sampling deals***\n",
        "Randomly pick five deals so that you can reach out to each customer and ask if they were satisfied with the service they received. You'll try doing this both with and without replacement.\n",
        "\n",
        "Additionally, you want to make sure this is done randomly and that it can be reproduced in case you get asked how you chose the deals, so you'll need to set the random seed before sampling from the deals.\n",
        "\n",
        "\n",
        "* Set the random seed to `24`.\n",
        "* Take a sample of `5` deals ***without*** replacement and store them as `sample_without_replacement`.\n",
        "* Take a sample of 5 deals with replacement and save as `sample_with_replacement`."
      ],
      "metadata": {
        "id": "XTvM7E4o85TS"
      }
    },
    {
      "cell_type": "code",
      "source": [
        "# Set random seed\n",
        "np.random.seed(24)\n",
        "\n",
        "# Sample 5 deals without replacement\n",
        "sample_without_replacement = amir_deals.sample(5)\n",
        "print(sample_without_replacement)\n",
        "\n",
        "# Set random seed\n",
        "np.random.seed(24)\n",
        "\n",
        "# Sample 5 deals with replacement\n",
        "sample_with_replacement = amir_deals.sample(5, replace=True)\n",
        "print(sample_with_replacement)"
      ],
      "metadata": {
        "colab": {
          "base_uri": "https://localhost:8080/"
        },
        "id": "bSDvhSKv7qTD",
        "outputId": "344d80f9-7af5-4457-c6bc-d3f63722ba89"
      },
      "execution_count": null,
      "outputs": [
        {
          "output_type": "stream",
          "name": "stdout",
          "text": [
            "       product   client status   amount  num_users\n",
            "127  Product B  Current    Won  2070.25          7\n",
            "148  Product D  Current    Won  3485.48         52\n",
            "77   Product B  Current    Won  6252.30         27\n",
            "104  Product D  Current    Won  4110.98         39\n",
            "166  Product C      New   Lost  3779.86         11\n",
            "       product   client status   amount  num_users\n",
            "162  Product D  Current    Won  6755.66         59\n",
            "131  Product B  Current    Won  6872.29         25\n",
            "87   Product C  Current    Won  3579.63          3\n",
            "145  Product A  Current    Won  4682.94         63\n",
            "145  Product A  Current    Won  4682.94         63\n"
          ]
        }
      ]
    },
    {
      "cell_type": "markdown",
      "source": [
        " It's important to consider how you'll take a sample since there's no one-size-fits-all way to sample, and this can have an effect on your results.\n",
        "\n",
        "### ***Creating a probability distribution***\n",
        "\n",
        "A new restaurant opened a few months ago, and the restaurant's management wants to optimize its seating space based on the size of the groups that come most often. On one night, there are 10 groups of people waiting to be seated at the restaurant, but instead of being called in the order they arrived, they will be called randomly. In this exercise, you'll investigate the probability of groups of different sizes getting picked first. Data on each of the ten groups is contained in the `restaurant_groups` DataFrame.\n",
        "\n",
        "Remember that expected value can be calculated by multiplying each possible outcome with its corresponding probability and taking the sum. \n",
        "\n",
        "* Create a histogram of the `group_size` column of `restaurant_groups`, setting bins to `[2, 3, 4, 5, 6]`. \n",
        "\n",
        "* Count the number of each `group_size` in `restaurant_groups`, then divide by the number of rows in `restaurant_groups` to calculate the probability of randomly selecting a group of each size. Save as `size_dist`.\n",
        "* Reset the index of `size_dist`.\n",
        "* Rename the columns of `size_dist` to `group_size` and prob.\n",
        "\n",
        "* Calculate the expected value of the `size_distribution`, which represents the expected group size, by multiplying the `group_size` by the prob and taking the sum.\n",
        "\n",
        "* Calculate the probability of randomly picking a group of 4 or more people by subsetting for groups of size 4 or more and summing the probabilities of selecting those groups."
      ],
      "metadata": {
        "id": "WJHh9HvW92AD"
      }
    },
    {
      "cell_type": "code",
      "source": [
        "import pandas as pd\n",
        "import numpy as np\n",
        "import matplotlib.pyplot as plt\n",
        "\n",
        "\n",
        "restaurant_groups = pd.DataFrame(data = {'group_id':['A', 'B', 'C', 'D', 'E', 'F', 'G', 'H', 'I', 'J'], 'group_size': [2, 4, 6, 2, 2, 2, 3, 2, 4, 2]})\n",
        "\n",
        "restaurant_groups['group_size'].hist(bins=[2., 3., 4., 5., 6.])\n",
        "plt.show()\n",
        "\n",
        "# Create probability distribution\n",
        "size_dist = restaurant_groups['group_size'].value_counts() / restaurant_groups.shape[0]\n",
        "\n",
        "# Reset index and rename columns\n",
        "size_dist = size_dist.reset_index()\n",
        "size_dist.columns = ['group_size', 'prob']\n",
        "\n",
        "# Expected value\n",
        "expected_value = np.sum(size_dist['group_size'] * size_dist['prob'])\n",
        "\n",
        "# Subset groups of size 4 or more\n",
        "groups_4_or_more = size_dist[size_dist['group_size'] >= 4]\n",
        "\n",
        "# Sum the probabilities of groups_4_or_more\n",
        "prob_4_or_more = np.sum(groups_4_or_more['prob'])\n",
        "print(prob_4_or_more)"
      ],
      "metadata": {
        "colab": {
          "base_uri": "https://localhost:8080/",
          "height": 282
        },
        "id": "lSqYMCmA9qPa",
        "outputId": "82114c12-c07e-4a99-b106-941dd779ccad"
      },
      "execution_count": null,
      "outputs": [
        {
          "output_type": "display_data",
          "data": {
            "text/plain": [
              "<Figure size 432x288 with 1 Axes>"
            ],
            "image/png": "[encoded data removed]"
          },
          "metadata": {
            "needs_background": "light"
          }
        },
        {
          "output_type": "stream",
          "name": "stdout",
          "text": [
            "0.30000000000000004\n"
          ]
        }
      ]
    },
    {
      "cell_type": "markdown",
      "source": [
        "# ***Generating random numbers according to uniform distribution***\n",
        "\n",
        "```\n",
        "from scipy.stats import uniform\n",
        "uniform.rvs(0, 5, size=10)\n",
        "```\n",
        "\n",
        "### ***Data back-ups***\n",
        "\n",
        "The sales software used at your company is set to automatically back itself up, but no one knows exactly what time the back-ups happen. It is known, however, that back-ups happen exactly every 30 minutes. Amir comes back from sales meetings at random times to update the data on the client he just met with. He wants to know how long he'll have to wait for his newly-entered data to get backed up. Use your new knowledge of continuous uniform distributions to model this situation and answer Amir's questions.\n",
        "\n",
        "* To model how long Amir will wait for a back-up using a continuous uniform distribution, save his lowest possible wait time as `min_time` and his longest possible wait time as `max_time`. Remember that back-ups happen every `30` minutes.\n",
        "\n",
        "* Import `uniform` from `scipy.stats` and calculate the probability that Amir has to wait less than 5 minutes, and store in a variable called `prob_less_than_5`.\n",
        "\n",
        "* Calculate the probability that Amir has to wait more than 5 minutes, and store in a variable called `prob_greater_than_5`.\n",
        "4\n",
        "Calculate the probability that Amir has to wait between 10 and 20 minutes, and store in a variable called `prob_between_10_and_20`."
      ],
      "metadata": {
        "id": "0uTTBQo_bPoX"
      }
    },
    {
      "cell_type": "code",
      "source": [
        "from scipy.stats import uniform\n",
        "\n",
        "# Min and max wait times for back-up that happens every 30 min\n",
        "min_time = 0\n",
        "max_time = 30\n",
        "\n",
        "# Calculate probability of waiting less than 5 mins\n",
        "prob_less_than_5 = uniform.cdf(5, min_time, max_time)\n",
        "print(prob_less_than_5)\n",
        "\n",
        "# Calculate probability of waiting more than 5 mins\n",
        "prob_greater_than_5 = 1 - uniform.cdf(5, min_time, max_time)\n",
        "print(prob_greater_than_5)\n",
        "\n",
        "# Calculate probability of waiting 10-20 mins\n",
        "prob_between_10_and_20 = uniform.cdf(20, min_time, max_time) - uniform.cdf(10, min_time, max_time)\n",
        "print(prob_between_10_and_20)"
      ],
      "metadata": {
        "colab": {
          "base_uri": "https://localhost:8080/"
        },
        "id": "LhvocgHdAL48",
        "outputId": "63db1991-266f-4166-9120-4fd9c3f63f87"
      },
      "execution_count": null,
      "outputs": [
        {
          "output_type": "stream",
          "name": "stdout",
          "text": [
            "0.16666666666666666\n",
            "0.8333333333333334\n",
            "0.3333333333333333\n"
          ]
        }
      ]
    },
    {
      "cell_type": "markdown",
      "source": [
        "There's a 33% chance that Amir will wait 10-20 minutes. In the next exercise, you'll make sure this calculation holds up by simulating some wait times.\n",
        "\n",
        "### ***Simulating wait times***\n",
        "\n",
        "To give Amir a better idea of how long he'll have to wait, you'll simulate Amir waiting 1,000 times and create a histogram to show him what he should expect. Recall from the last exercise that his minimum wait time is 0 minutes and his maximum wait time is 30 minutes.\n",
        "\n",
        "* Set the random seed to `334`.\n",
        "* Generate 1,000 wait times from the continuous uniform distribution that models Amir's wait time. Save this as `wait_times`.\n",
        "* Create a histogram of the simulated wait times."
      ],
      "metadata": {
        "id": "fn_EMafPd6MS"
      }
    },
    {
      "cell_type": "code",
      "source": [
        "from scipy.stats import uniform\n",
        "\n",
        "# Set random seed to 334\n",
        "np.random.seed(334)\n",
        "\n",
        "# Generate 1000 wait times between 0 and 30 mins\n",
        "wait_times = uniform.rvs(0, 30, size=1000)\n",
        "\n",
        "# Create a histogram of simulated times and show plot\n",
        "plt.hist(wait_times, edgecolor='white')\n",
        "plt.show()"
      ],
      "metadata": {
        "colab": {
          "base_uri": "https://localhost:8080/",
          "height": 265
        },
        "id": "eFegzZBTd2ii",
        "outputId": "55d2a3b1-7604-44a7-fb08-8bb2e21a5e1f"
      },
      "execution_count": null,
      "outputs": [
        {
          "output_type": "display_data",
          "data": {
            "text/plain": [
              "<Figure size 432x288 with 1 Axes>"
            ],
            "image/png": "[encoded data removed]"
          },
          "metadata": {
            "needs_background": "light"
          }
        }
      ]
    },
    {
      "cell_type": "markdown",
      "source": [
        "Unless Amir figures out exactly what time each backup happens, he won't be able to time his data entry so it gets backed up sooner, but it looks like he'll wait about 15 minutes on average.\n",
        "\n",
        "# ***Binomial Distribution (Each experiment must be independent to each other)*** -- Cannot be used with sampling without replacement\n",
        "```\n",
        "from scipy.stats import binom\n",
        "binom.rvs(1, 0.5, size=1)\n",
        "\n",
        "binom.rvs(# of coins, probability of heads/success, size=# of trials)\n",
        "```"
      ],
      "metadata": {
        "id": "gRxfF1oKfB7A"
      }
    },
    {
      "cell_type": "code",
      "source": [
        "from scipy.stats import binom\n",
        "binom.rvs(1, 0.5, size=10)"
      ],
      "metadata": {
        "id": "y9mz_9rYe6_m",
        "colab": {
          "base_uri": "https://localhost:8080/"
        },
        "outputId": "d788f34f-1794-4840-fae8-1298747de800"
      },
      "execution_count": 2,
      "outputs": [
        {
          "output_type": "execute_result",
          "data": {
            "text/plain": [
              "array([0, 1, 0, 0, 0, 1, 0, 1, 0, 0])"
            ]
          },
          "metadata": {},
          "execution_count": 2
        }
      ]
    },
    {
      "cell_type": "markdown",
      "source": [
        "# ***What's the probability of exactly 7 heads?***\n",
        "\n",
        "$$Prob(\\text{heads}=7)$$"
      ],
      "metadata": {
        "id": "er62v0E-ophe"
      }
    },
    {
      "cell_type": "code",
      "source": [
        "# binom.pmf(# heads, # trials, prob of heads)\n",
        "binom.pmf(7, 10, 0.5)"
      ],
      "metadata": {
        "colab": {
          "base_uri": "https://localhost:8080/"
        },
        "id": "Te3s3ZBKoAsh",
        "outputId": "2b14ad7c-fc66-42ef-e1f9-fc481876fc25"
      },
      "execution_count": 4,
      "outputs": [
        {
          "output_type": "execute_result",
          "data": {
            "text/plain": [
              "0.11718750000000014"
            ]
          },
          "metadata": {},
          "execution_count": 4
        }
      ]
    },
    {
      "cell_type": "markdown",
      "source": [
        "# ***What's the probability of 7 or fewer heads?***\n",
        "\n",
        "\n",
        "$$Prob(\\text{heads} \\leq 7)$$"
      ],
      "metadata": {
        "id": "X6NCYZkwpG_1"
      }
    },
    {
      "cell_type": "code",
      "source": [
        "binom.cdf(7, 10, 0.5)"
      ],
      "metadata": {
        "colab": {
          "base_uri": "https://localhost:8080/"
        },
        "id": "lCzI933zo461",
        "outputId": "87df6f94-d2a3-41d7-b349-6cb3eafc54a8"
      },
      "execution_count": 5,
      "outputs": [
        {
          "output_type": "execute_result",
          "data": {
            "text/plain": [
              "0.9453125"
            ]
          },
          "metadata": {},
          "execution_count": 5
        }
      ]
    },
    {
      "cell_type": "markdown",
      "source": [
        "# ***Expected value of Binomial Distribution***\n",
        "\n",
        "$$X \\sim  Bin(n, p) \\Longrightarrow E(X) = np$$"
      ],
      "metadata": {
        "id": "SUvkRiADpmh1"
      }
    },
    {
      "cell_type": "markdown",
      "source": [
        "### ***Simulating sales deals***\n",
        "\n",
        "Assume that Amir usually works on 3 deals per week, and overall, he wins 30% of deals he works on. Each deal has a binary outcome: it's either lost, or won, so you can model his sales deals with a ***binomial distribution***. In this exercise, you'll help Amir simulate a year's worth of his deals so he can better understand his performance.\n",
        "\n",
        "* Import binom from scipy.stats and set the random seed to 10.\n",
        "\n",
        "* Simulate 1 deal worked on by Amir, who wins 30% of the deals he works on.\n",
        "\n",
        "* Simulate a typical week of Amir's deals, or one week of 3 deals.\n",
        "\n",
        "* Simulate a year's worth of Amir's deals, or 52 weeks of 3 deals each, and store in deals.\n"
      ],
      "metadata": {
        "id": "CaGuuR969GxR"
      }
    },
    {
      "cell_type": "code",
      "source": [
        "from scipy.stats import binom\n",
        "import numpy as np\n",
        "\n",
        "# Set random seed to 10\n",
        "np.random.seed(10)\n",
        "\n",
        "# Simulate a single deal\n",
        "print(binom.rvs(1, 0.3, size=1))\n",
        "\n",
        "# Simulate 1 week of 3 deals\n",
        "print(binom.rvs(3, 0.3, size=1))\n",
        "\n",
        "# Simulate 1 week of 3 deals\n",
        "print(binom.rvs(3, 0.3, size=1))\n",
        "\n",
        "# Simulate 52 weeks of 3 deals\n",
        "deals = binom.rvs(3, 0.3, size=52)\n",
        "\n",
        "# Print mean deals won per week\n",
        "print(np.mean(deals))"
      ],
      "metadata": {
        "colab": {
          "base_uri": "https://localhost:8080/"
        },
        "id": "kiLUTkvOpPZS",
        "outputId": "18ff1602-6384-4785-db58-8047f2bf820c"
      },
      "execution_count": 1,
      "outputs": [
        {
          "output_type": "stream",
          "name": "stdout",
          "text": [
            "[1]\n",
            "[0]\n",
            "[1]\n",
            "0.8461538461538461\n"
          ]
        }
      ]
    },
    {
      "cell_type": "markdown",
      "source": [
        "### ***Calculating binomial probabilities***\n",
        "\n",
        "Just as in the last exercise, assume that Amir wins 30% of deals. He wants to get an idea of how likely he is to close a certain number of deals each week. In this exercise, you'll calculate what the chances are of him closing different numbers of deals using the binomial distribution.\n",
        "\n",
        "* What's the probability that Amir closes all 3 deals in a week? Save this as `prob_3`.\n",
        "\n",
        "* What's the probability that Amir closes 1 or fewer deals in a week? Save this as `prob_less_than_or_equal_1`.\n",
        "\n",
        "* What's the probability that Amir closes more than 1 deal? Save this as `prob_greater_than_1`."
      ],
      "metadata": {
        "id": "obheetzi-vXH"
      }
    },
    {
      "cell_type": "code",
      "source": [
        "from scipy.stats import binom\n",
        "import numpy as np\n",
        "\n",
        "# Probability of closing 3 out of 3 deals\n",
        "prob_3 = binom.pmf(3, 3, 0.3)\n",
        "\n",
        "print(prob_3)\n",
        "\n",
        "# Probability of closing <= 1 deal out of 3 deals\n",
        "prob_less_than_or_equal_1 = binom.cdf(1, 3, 0.3)\n",
        "\n",
        "print(prob_less_than_or_equal_1)\n",
        "\n",
        "# Probability of closing > 1 deal out of 3 deals\n",
        "prob_greater_than_1 = 1 - binom.cdf(1, 3, 0.3)\n",
        "\n",
        "print(prob_greater_than_1)"
      ],
      "metadata": {
        "colab": {
          "base_uri": "https://localhost:8080/"
        },
        "id": "rdR_PasK-hhL",
        "outputId": "02b2799e-4782-4954-c938-c1abd6817110"
      },
      "execution_count": 2,
      "outputs": [
        {
          "output_type": "stream",
          "name": "stdout",
          "text": [
            "0.026999999999999982\n",
            "0.7839999999999999\n",
            "0.21600000000000008\n"
          ]
        }
      ]
    },
    {
      "cell_type": "markdown",
      "source": [
        " Amir has about a 22% chance of closing more than one deal in a week.\n",
        "\n",
        "### ***How many sales will be won?***\n",
        "\n",
        "Now Amir wants to know how many deals he can expect to close each week if his win rate changes. Luckily, you can use your binomial distribution knowledge to help him calculate the expected value in different situations. Recall that the expected value of a binomial distribution can be calculated by $n\\times p$.\n",
        "\n",
        "* Calculate the expected number of sales out of the 3 he works on that Amir will win each week if he maintains his 30% win rate.\n",
        "\n",
        "* Calculate the expected number of sales out of the 3 he works on that he'll win if his win rate drops to 25%.\n",
        "\n",
        "* Calculate the expected number of sales out of the 3 he works on that he'll win if his win rate rises to 35%."
      ],
      "metadata": {
        "id": "OwOBdkJ3AN0M"
      }
    },
    {
      "cell_type": "code",
      "source": [
        "# Expected number won with 30% win rate\n",
        "won_30pct = 3 * 0.3\n",
        "print(won_30pct)\n",
        "\n",
        "# Expected number won with 25% win rate\n",
        "won_25pct = 3 * 0.25\n",
        "print(won_25pct)\n",
        "\n",
        "# Expected number won with 35% win rate\n",
        "won_35pct = 3 * 0.35\n",
        "print(won_35pct)"
      ],
      "metadata": {
        "colab": {
          "base_uri": "https://localhost:8080/"
        },
        "id": "uPkHdcHfAHm_",
        "outputId": "bf8e8982-dd22-43ce-f61a-68b11f0eccb9"
      },
      "execution_count": 3,
      "outputs": [
        {
          "output_type": "stream",
          "name": "stdout",
          "text": [
            "0.8999999999999999\n",
            "0.75\n",
            "1.0499999999999998\n"
          ]
        }
      ]
    },
    {
      "cell_type": "markdown",
      "source": [
        "If Amir's win rate goes up by 5%, he can expect to close more than 1 deal on average each week.\n",
        "\n",
        "### ***Distribution of Amir's sales***\n",
        "\n",
        "Since each deal Amir worked on (both won and lost) was different, each was worth a different amount of money. These values are stored in the amount column of `amir_deals` As part of Amir's performance review, you want to be able to estimate the probability of him selling different amounts, but before you can do this, you'll need to determine what kind of distribution the amount variable follows.\n",
        "\n",
        "* Create a histogram with `10` bins to visualize the distribution of the amount."
      ],
      "metadata": {
        "id": "zbMO2zdWBNZv"
      }
    },
    {
      "cell_type": "code",
      "source": [
        "from scipy.stats import norm\n",
        "import numpy as np\n",
        "import pandas as pd\n",
        "import matplotlib.pyplot as plt\n",
        "\n",
        "amir_deals = pd.read_csv('amir_deals.csv').drop(columns='Unnamed: 0')\n",
        "\n",
        "# Histogram of amount with 10 bins and show plot\n",
        "amir_deals['amount'].hist(bins=10)\n",
        "plt.show()"
      ],
      "metadata": {
        "colab": {
          "base_uri": "https://localhost:8080/",
          "height": 265
        },
        "id": "_c5R9mzGBHCl",
        "outputId": "3510a5a4-41e1-42e7-cade-a38a230666a3"
      },
      "execution_count": 9,
      "outputs": [
        {
          "output_type": "display_data",
          "data": {
            "text/plain": [
              "<Figure size 432x288 with 1 Axes>"
            ],
            "image/png": "[encoded data removed]"
          },
          "metadata": {
            "needs_background": "light"
          }
        }
      ]
    },
    {
      "cell_type": "markdown",
      "source": [
        "Now that you've visualized the data, you know that you can approximate probabilities of different amounts using the normal distribution.\n",
        "\n",
        "### ***Probabilities from the normal distribution***\n",
        "\n",
        "Since each deal Amir worked on (both won and lost) was different, each was worth a different amount of money. These values are stored in the `amount` column of `amir_deals` and follow a normal distribution with a mean of 5,000 dollars and a standard deviation of 2,000 dollars. As part of his performance metrics, you want to calculate the probability of Amir closing a deal worth various amounts.\n",
        "\n",
        "* What's the probability of Amir closing a deal worth less than $7,500?\n",
        "\n",
        "* What's the probability of Amir closing a deal worth more than $1,000?\n",
        "\n",
        "* What's the probability of Amir closing a deal worth between $3,000 and $7,000?\n",
        "\n",
        "* What amount will 25% of Amir's sales be less than?\n"
      ],
      "metadata": {
        "id": "tjx72AihNVcl"
      }
    },
    {
      "cell_type": "code",
      "source": [
        "# Probability of deal < 7500\n",
        "prob_less_7500 = norm.cdf(7500, 5000, 2000)\n",
        "\n",
        "print(prob_less_7500)\n",
        "\n",
        "# Probability of deal > 1000\n",
        "prob_over_1000 = 1 - norm.cdf(1000, 5000, 2000)\n",
        "\n",
        "print(prob_over_1000)\n",
        "\n",
        "# Probability of deal between 3000 and 7000\n",
        "prob_3000_to_7000 = norm.cdf(7000, 5000, 2000) - norm.cdf(3000, 5000, 2000)\n",
        "\n",
        "print(prob_3000_to_7000)\n",
        "\n",
        "# Calculate amount that 25% of deals will be less than\n",
        "pct_25 = norm.ppf(0.25, 5000, 2000)\n",
        "\n",
        "print(pct_25)"
      ],
      "metadata": {
        "colab": {
          "base_uri": "https://localhost:8080/"
        },
        "id": "GoOb1b-_MuEP",
        "outputId": "9d1c2d00-5d8f-4896-ace3-056a4a687cd5"
      },
      "execution_count": 10,
      "outputs": [
        {
          "output_type": "stream",
          "name": "stdout",
          "text": [
            "0.8943502263331446\n",
            "0.9772498680518208\n",
            "0.6826894921370859\n",
            "3651.0204996078364\n"
          ]
        }
      ]
    },
    {
      "cell_type": "markdown",
      "source": [
        "You know that you can count on Amir 75% (1-0.25) of the time to make a sale worth at least $3,651.02. This information could be useful in making company-wide sales projections.\n",
        "\n",
        "### ***Simulating sales under new market conditions***\n",
        "\n",
        "The company's financial analyst is predicting that next quarter, the worth of each sale will increase by 20% and the volatility, or standard deviation, of each sale's worth will increase by 30%. To see what Amir's sales might look like next quarter under these new market conditions, you'll simulate new sales amounts using the normal distribution and store these in the `new_sales` DataFrame.\n",
        "\n",
        "* Currently, Amir's average sale amount is $5,000. Calculate what his new average amount will be if it increases by 20% and store this in `new_mean`.\n",
        "\n",
        "* Amir's current standard deviation is $2,000. Calculate what his new standard deviation will be if it increases by 30% and store this in `new_sd`.\n",
        "\n",
        "* Create a variable called `new_sales`, which contains 36 simulated amounts from a normal distribution with a mean of `new_mean` and a standard deviation of `new_sd`.\n",
        "\n",
        "* Plot the distribution of the `new_sales` amounts using a histogram and show the plot."
      ],
      "metadata": {
        "id": "RCBg6N4DOjCh"
      }
    },
    {
      "cell_type": "code",
      "source": [
        "# Calculate new average amount\n",
        "new_mean = 5000 * 1.2\n",
        "\n",
        "# Calculate new standard deviation\n",
        "new_sd = 2000 * 1.3\n",
        "\n",
        "# Simulate 36 new sales\n",
        "new_sales = norm.rvs(new_mean, new_sd, size=36)\n",
        "\n",
        "# Create histogram and show\n",
        "plt.hist(new_sales, edgecolor='white')\n",
        "plt.show()\n",
        "\n",
        "# ร้อยละของรายการการขายที่ขายได้มากกว่า 1,000\n",
        "print(1 - norm.cdf(1000, 5000, 2000))\n",
        "print(1 - norm.cdf(1000, new_mean, new_sd))"
      ],
      "metadata": {
        "colab": {
          "base_uri": "https://localhost:8080/",
          "height": 300
        },
        "id": "CURX9U3tMyYh",
        "outputId": "6ed956ea-8698-44e4-b881-84d102bef65a"
      },
      "execution_count": 14,
      "outputs": [
        {
          "output_type": "display_data",
          "data": {
            "text/plain": [
              "<Figure size 432x288 with 1 Axes>"
            ],
            "image/png": "[encoded data removed]"
          },
          "metadata": {
            "needs_background": "light"
          }
        },
        {
          "output_type": "stream",
          "name": "stdout",
          "text": [
            "0.9772498680518208\n",
            "0.9727648049862613\n"
          ]
        }
      ]
    },
    {
      "cell_type": "markdown",
      "source": [
        "Although the average sale amount went up, the variation also increased, so it's not straightforward to decide whether these sales are better than his current ones.  Amir makes sales over $1,000 about 97.7% of the time, and about 97.3% of the time in the predicted market, so there's not much of a difference. However, his average sale amount is higher in the predicted market, so your company may want to consider other metrics as well.\n",
        "\n",
        "# ***Central Limit Theorem***\n",
        "\n",
        "The sampling distribution of a statistic becomes closer to the normal distribution as the number of trials increase.\n",
        "\n",
        "![image.png](data:image/png;base64,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)\n",
        "\n",
        "Examine the `num_users` column of `amir_deals` more closely, which contains the number of people who intend to use the product Amir is selling.\n",
        "\n",
        "* Create a histogram of the `num_users` column of `amir_deals` and show the plot.\n",
        "\n",
        "* Set the seed to `104`.\n",
        "\n",
        "* Take a sample of size `20` with replacement from the `num_users` column of `amir_deals`, and take the mean."
      ],
      "metadata": {
        "id": "ElB5EG_oQHTW"
      }
    },
    {
      "cell_type": "code",
      "source": [
        "from scipy.stats import norm\n",
        "import numpy as np\n",
        "import pandas as pd\n",
        "import matplotlib.pyplot as plt\n",
        "\n",
        "amir_deals = pd.read_csv('amir_deals.csv').drop(columns='Unnamed: 0')\n",
        "\n",
        "# Create a histogram of num_users and show\n",
        "amir_deals['num_users'].hist(edgecolor='white')\n",
        "plt.show()\n",
        "\n",
        "# Set seed to 104\n",
        "np.random.seed(104)\n",
        "\n",
        "# Sample 20 num_users with replacement from amir_deals\n",
        "samp_20 = amir_deals['num_users'].sample(20, replace=True)\n",
        "\n",
        "# Take mean of samp_20\n",
        "print(np.mean(samp_20))"
      ],
      "metadata": {
        "colab": {
          "base_uri": "https://localhost:8080/",
          "height": 282
        },
        "id": "5Om5B0TaQB_n",
        "outputId": "325dc788-6528-4c1b-92a5-76ffcb797b91"
      },
      "execution_count": 2,
      "outputs": [
        {
          "output_type": "display_data",
          "data": {
            "text/plain": [
              "<Figure size 432x288 with 1 Axes>"
            ],
            "image/png": "[encoded data removed]"
          },
          "metadata": {
            "needs_background": "light"
          }
        },
        {
          "output_type": "stream",
          "name": "stdout",
          "text": [
            "32.0\n"
          ]
        }
      ]
    },
    {
      "cell_type": "markdown",
      "source": [
        "* Repeat this 100 times using a `for` loop and store as `sample_means`. This will take 100 different samples and calculate the mean of each.\n",
        "* Convert `sample_means` into a `pd.Series`, create a histogram of the `sample_means`, and show the plot."
      ],
      "metadata": {
        "id": "jIhBU9kzanvO"
      }
    },
    {
      "cell_type": "code",
      "source": [
        "import numpy as np\n",
        "import pandas as pd\n",
        "import matplotlib.pyplot as plt\n",
        "\n",
        "amir_deals = pd.read_csv('amir_deals.csv').drop(columns='Unnamed: 0')\n",
        "\n",
        "# Set seed to 104\n",
        "np.random.seed(104)\n",
        "\n",
        "sample_means = []\n",
        "# Loop 100 times\n",
        "for i in range(100):\n",
        "    # Take sample of 20 num_users\n",
        "    samp_20 = amir_deals['num_users'].sample(20, replace=True)\n",
        "    # Calculate mean of samp_20\n",
        "    samp_20_mean = np.mean(samp_20)\n",
        "    # Append samp_20_mean to sample_means\n",
        "    sample_means.append(samp_20_mean)\n",
        "  \n",
        "# Convert to Series and plot histogram\n",
        "sample_means_series = pd.Series(sample_means)\n",
        "sample_means_series.hist(edgecolor='white')\n",
        "plt.show()"
      ],
      "metadata": {
        "colab": {
          "base_uri": "https://localhost:8080/",
          "height": 265
        },
        "id": "PBh53x7Faeiv",
        "outputId": "4cf360b4-aab4-4c8f-9d2d-03ff2ec10898"
      },
      "execution_count": 4,
      "outputs": [
        {
          "output_type": "display_data",
          "data": {
            "text/plain": [
              "<Figure size 432x288 with 1 Axes>"
            ],
            "image/png": "[encoded data removed]"
          },
          "metadata": {
            "needs_background": "light"
          }
        }
      ]
    },
    {
      "cell_type": "markdown",
      "source": [
        "You've just seen the central limit thorem at work. Even though the distribution of `num_users` is not normal, the distribution of its sample means resembles the normal distribution.\n",
        "\n",
        "### ***The mean of means*** (ขี้เกียจสร้างไฟล์ all_deals)\n",
        "\n",
        "You want to know what the average number of users (`num_users`) is per deal, but you want to know this number for the entire company so that you can see if Amir's deals have more or fewer users than the company's average deal. The problem is that over the past year, the company has worked on more than ten thousand deals, so it's not realistic to compile all the data. Instead, you'll estimate the mean by taking several random samples of deals, since this is much easier than collecting data from everyone in the company.\n",
        "\n",
        "* Set the random seed to `321`.\n",
        "\n",
        "* Take 30 samples (with replacement) of size 20 from `all_deals['num_users']` and take the mean of each sample. Store the sample means in `sample_means`.\n",
        "* Print the mean of `sample_means`.\n",
        "* Print the mean of the `num_users` column of `amir_deals`."
      ],
      "metadata": {
        "id": "tfiBfaaZb3rK"
      }
    },
    {
      "cell_type": "code",
      "source": [
        "# Set seed to 321\n",
        "np.random.seed(321)\n",
        "\n",
        "sample_means = []\n",
        "# Loop 30 times to take 30 means\n",
        "for i in range(30):\n",
        "  # Take sample of size 20 from num_users col of all_deals with replacement\n",
        "  cur_sample = all_deals['num_users'].sample(20, replace=True)\n",
        "  # Take mean of cur_sample\n",
        "  cur_mean = np.mean(cur_sample)\n",
        "  # Append cur_mean to sample_means\n",
        "  sample_means.append(cur_mean)\n",
        "\n",
        "# Print mean of sample_means\n",
        "print(np.mean(sample_means))\n",
        "\n",
        "# Print mean of num_users in amir_deals\n",
        "print(np.mean(amir_deals['num_users']))"
      ],
      "metadata": {
        "id": "NCG8ITqLbsAI"
      },
      "execution_count": null,
      "outputs": []
    },
    {
      "cell_type": "markdown",
      "source": [
        "```\n",
        "<script.py> output:\n",
        "    38.31333333333332\n",
        "    37.651685393258425\n",
        "```\n",
        "Amir's average number of users is very close to the overall average.\n",
        "\n",
        "# ***Probability of a single value in Poisson Distribution***"
      ],
      "metadata": {
        "id": "QxhLTdMqe439"
      }
    },
    {
      "cell_type": "code",
      "source": [
        "from scipy.stats import poisson\n",
        "poisson.pmf(5, 8)"
      ],
      "metadata": {
        "colab": {
          "base_uri": "https://localhost:8080/"
        },
        "id": "zjsW29cSe8Za",
        "outputId": "25547056-4b56-4c32-8b56-a86ea975a06b"
      },
      "execution_count": 5,
      "outputs": [
        {
          "output_type": "execute_result",
          "data": {
            "text/plain": [
              "0.09160366159257921"
            ]
          },
          "metadata": {},
          "execution_count": 5
        }
      ]
    },
    {
      "cell_type": "markdown",
      "source": [
        "# ***Probability of less than or equal to in Poisson Distribution***"
      ],
      "metadata": {
        "id": "98h5fRfygwtM"
      }
    },
    {
      "cell_type": "code",
      "source": [
        "from scipy.stats import poisson\n",
        "print(poisson.cdf(5, 8))\n",
        "print(poisson.pmf(0, 8) + poisson.pmf(1, 8) + poisson.pmf(2, 8) + poisson.pmf(3, 8) + poisson.pmf(4, 8) + poisson.pmf(5, 8))"
      ],
      "metadata": {
        "colab": {
          "base_uri": "https://localhost:8080/"
        },
        "id": "2oU2M9KLgq2i",
        "outputId": "e9fa1fe8-ac94-45a1-cc4b-a4e694104380"
      },
      "execution_count": 6,
      "outputs": [
        {
          "output_type": "stream",
          "name": "stdout",
          "text": [
            "0.19123606207962532\n",
            "0.19123606207962518\n"
          ]
        }
      ]
    },
    {
      "cell_type": "markdown",
      "source": [
        "# ***Sampling from a Poisson distribution***"
      ],
      "metadata": {
        "id": "TGwpsa2thhCJ"
      }
    },
    {
      "cell_type": "code",
      "source": [
        "from scipy.stats import poisson\n",
        "poisson.rvs(8, size=10)"
      ],
      "metadata": {
        "colab": {
          "base_uri": "https://localhost:8080/"
        },
        "id": "jVx4JXdYhSGU",
        "outputId": "54926eda-669e-40d6-aac1-6367c4b07d8b"
      },
      "execution_count": 7,
      "outputs": [
        {
          "output_type": "execute_result",
          "data": {
            "text/plain": [
              "array([ 7,  7, 10, 11,  8,  5, 13, 11,  7,  7])"
            ]
          },
          "metadata": {},
          "execution_count": 7
        }
      ]
    },
    {
      "cell_type": "markdown",
      "source": [
        "# ***The CLT still applies!***"
      ],
      "metadata": {
        "id": "FAmjcri4i47d"
      }
    },
    {
      "cell_type": "code",
      "source": [
        "from scipy.stats import poisson\n",
        "import matplotlib.pyplot as plt\n",
        "\n",
        "pmean = []\n",
        "for i in range(10000):\n",
        "    m = poisson.rvs(8, size=100)\n",
        "    pmean.append(np.mean(m))\n",
        "\n",
        "plt.hist(pmean, edgecolor='white')\n",
        "plt.grid()\n",
        "plt.title(r'Distribution of sample means from Poisson distribution ($\\lambda = 8$)')\n",
        "plt.show()"
      ],
      "metadata": {
        "colab": {
          "base_uri": "https://localhost:8080/",
          "height": 283
        },
        "id": "m6_DV_yihz0G",
        "outputId": "110202e9-104e-4bd7-a76d-963c3529b8cd"
      },
      "execution_count": 11,
      "outputs": [
        {
          "output_type": "display_data",
          "data": {
            "text/plain": [
              "<Figure size 432x288 with 1 Axes>"
            ],
            "image/png": "[encoded data removed]"
          },
          "metadata": {
            "needs_background": "light"
          }
        }
      ]
    },
    {
      "cell_type": "markdown",
      "source": [
        "### ***Tracking lead responses***\n",
        "\n",
        "Your company uses sales software to keep track of new sales leads. It organizes them into a queue so that anyone can follow up on one when they have a bit of free time. Since the number of lead responses is a countable outcome over a period of time, this scenario corresponds to a Poisson distribution. On average, Amir responds to 4 leads each day. In this exercise, you'll calculate probabilities of Amir responding to different numbers of leads.\n",
        "\n",
        "* Import poisson `from scipy.stats` and calculate the probability that Amir responds to `5` leads in a day, given that he responds to an average of `4`.\n",
        "\n",
        "* Amir's coworker responds to an average of `5.5` leads per day. What is the probability that she answers `5` leads in a day?\n",
        "\n",
        "* What's the probability that Amir responds to `2` or fewer leads in a day?\n",
        "\n",
        "* What's the probability that Amir responds to more than `10` leads in a day?"
      ],
      "metadata": {
        "id": "ek7FXftmjH6u"
      }
    },
    {
      "cell_type": "code",
      "source": [
        "from scipy.stats import poisson\n",
        "\n",
        "prob_5 = poisson.pmf(5, 4)\n",
        "\n",
        "print(prob_5)\n",
        "\n",
        "# Probability of 5 responses\n",
        "prob_coworker = poisson.pmf(5, 5.5)\n",
        "\n",
        "print(prob_coworker)\n",
        "\n",
        "# Probability of 2 or fewer responses\n",
        "prob_2_or_less = poisson.cdf(2, 4)\n",
        "print(prob_2_or_less)\n",
        "\n",
        "# Probability of > 10 responses\n",
        "prob_over_10 = 1 - poisson.cdf(10, 4)\n",
        "print(prob_over_10)"
      ],
      "metadata": {
        "colab": {
          "base_uri": "https://localhost:8080/"
        },
        "id": "SyveAo0jiiKZ",
        "outputId": "779bbcfa-ec4f-4d57-e1dc-459f818fe890"
      },
      "execution_count": 12,
      "outputs": [
        {
          "output_type": "stream",
          "name": "stdout",
          "text": [
            "0.1562934518505317\n",
            "0.17140068409793663\n",
            "0.23810330555354436\n",
            "0.0028397661205137315\n"
          ]
        }
      ]
    },
    {
      "cell_type": "markdown",
      "source": [
        "Note that if you provide `poisson.pmf()` or `poisson.cdf()` with a non-integer, it throws an error since the Poisson distribution only applies to integers.\n",
        "\n",
        "# ***Exponential Distribution***\n",
        "\n",
        "* Rate per time unit = $\\lambda$\n",
        "* Expected value = $\\dfrac{1}{\\lambda}$\n"
      ],
      "metadata": {
        "id": "6ZQ5YDFYkRt0"
      }
    },
    {
      "cell_type": "code",
      "source": [
        "from scipy.stats import expon\n",
        "\n",
        "# (wait < 1 min) =\n",
        "expon.cdf(1, scale=0.5)"
      ],
      "metadata": {
        "colab": {
          "base_uri": "https://localhost:8080/"
        },
        "id": "_Ii-plzUkNGP",
        "outputId": "fe82f0c5-7425-4101-d7dd-b30d8d6f20cc"
      },
      "execution_count": 13,
      "outputs": [
        {
          "output_type": "execute_result",
          "data": {
            "text/plain": [
              "0.8646647167633873"
            ]
          },
          "metadata": {},
          "execution_count": 13
        }
      ]
    },
    {
      "cell_type": "markdown",
      "source": [
        "### ***Modeling time between leads***\n",
        "\n",
        "To further evaluate Amir's performance, you want to know how much time it takes him to respond to a lead after he opens it. On average, it takes `2.5` hours for him to respond. In this exercise, you'll calculate probabilities of different amounts of time passing between Amir receiving a lead and sending a response.\n",
        "\n",
        "* Import `expon` `from scipy.stats`. What's the probability it takes Amir less than an hour to respond to a lead?\n",
        "\n",
        "* What's the probability it takes Amir more than 4 hours to respond to a lead?\n",
        "\n",
        "* What's the probability it takes Amir 3-4 hours to respond to a lead?"
      ],
      "metadata": {
        "id": "x5zo-gR6qScK"
      }
    },
    {
      "cell_type": "code",
      "source": [
        "from scipy.stats import expon\n",
        "\n",
        "# Print probability response takes < 1 hour\n",
        "print(expon.cdf(1, scale=2.5))\n",
        "\n",
        "# Print probability response takes > 4 hours\n",
        "print(1 - expon.cdf(4, scale=2.5))\n",
        "\n",
        "# Print probability response takes 3-4 hours\n",
        "print(expon.cdf(4, scale=2.5) - expon.cdf(3, scale=2.5))"
      ],
      "metadata": {
        "colab": {
          "base_uri": "https://localhost:8080/"
        },
        "id": "MUhgA28OoWSe",
        "outputId": "2094ee92-460b-4630-dec8-dd8a7917fb52"
      },
      "execution_count": 14,
      "outputs": [
        {
          "output_type": "stream",
          "name": "stdout",
          "text": [
            "0.3296799539643607\n",
            "0.20189651799465536\n",
            "0.09929769391754684\n"
          ]
        }
      ]
    },
    {
      "cell_type": "markdown",
      "source": [
        "There's only about a 20% chance it will take Amir more than 4 hours to respond, so he's pretty speedy in his responses.\n",
        "\n",
        "### ***Relationships between variables***\n",
        "\n",
        "In this chapter, you'll be working with a dataset `world_happiness` containing results from the 2019 World Happiness Report. The report scores various countries based on how happy people in that country are. It also ranks each country on various societal aspects such as social support, freedom, corruption, and others. The dataset also includes the GDP per capita and life expectancy for each country.\n",
        "\n",
        "In this exercise, you'll examine the relationship between a country's life expectancy (`life_exp`) and happiness score (`happiness_score`) both visually and quantitatively. \n",
        "\n",
        "* Create a scatterplot of `happiness_score` vs. `life_exp` (without a trendline).\n"
      ],
      "metadata": {
        "id": "tw0DzHv_s6DU"
      }
    },
    {
      "cell_type": "code",
      "source": [
        "import pandas as pd\n",
        "import matplotlib.pyplot as plt\n",
        "import seaborn as sns\n",
        "\n",
        "world_happiness = pd.read_csv('world_happiness.csv').drop(columns='Unnamed: 0')\n",
        "\n",
        "# Create a scatterplot of happiness_score vs. life_exp and show\n",
        "sns.scatterplot(y='happiness_score', x='life_exp', data=world_happiness)\n",
        "\n",
        "# Show plot\n",
        "plt.show()"
      ],
      "metadata": {
        "colab": {
          "base_uri": "https://localhost:8080/",
          "height": 281
        },
        "id": "_fQF4Tb-s2Qc",
        "outputId": "11fa24fb-07b5-424f-8524-e0a942164415"
      },
      "execution_count": 3,
      "outputs": [
        {
          "output_type": "display_data",
          "data": {
            "text/plain": [
              "<Figure size 432x288 with 1 Axes>"
            ],
            "image/png": "[encoded data removed]"
          },
          "metadata": {
            "needs_background": "light"
          }
        }
      ]
    },
    {
      "cell_type": "markdown",
      "source": [
        "* Create a scatterplot of `happiness_score` vs. `life_exp` with a linear trendline."
      ],
      "metadata": {
        "id": "1GcOFNN2KexG"
      }
    },
    {
      "cell_type": "code",
      "source": [
        "sns.lmplot(x='life_exp', y='happiness_score', data=world_happiness, ci=None)\n",
        "plt.show()"
      ],
      "metadata": {
        "colab": {
          "base_uri": "https://localhost:8080/",
          "height": 369
        },
        "id": "mCNB7VVUqdbq",
        "outputId": "8153f2ae-1c0f-4fb9-87f9-fffbd4e2c5d0"
      },
      "execution_count": 4,
      "outputs": [
        {
          "output_type": "display_data",
          "data": {
            "text/plain": [
              "<Figure size 360x360 with 1 Axes>"
            ],
            "image/png": "[encoded data removed]"
          },
          "metadata": {
            "needs_background": "light"
          }
        }
      ]
    },
    {
      "cell_type": "markdown",
      "source": [
        "Calculate the correlation between `life_exp` and `happiness_score`. Save this as cor."
      ],
      "metadata": {
        "id": "kenY4XPKL1bl"
      }
    },
    {
      "cell_type": "code",
      "source": [
        "# Correlation between life_exp and happiness_score\n",
        "cor = world_happiness['life_exp'].corr(world_happiness['happiness_score'])\n",
        "print(cor)"
      ],
      "metadata": {
        "colab": {
          "base_uri": "https://localhost:8080/"
        },
        "id": "OnpCGIXIrJC9",
        "outputId": "2908a9bb-b2a0-44ae-93cc-bdd586be8c55"
      },
      "execution_count": 5,
      "outputs": [
        {
          "output_type": "stream",
          "name": "stdout",
          "text": [
            "0.7802249053272062\n"
          ]
        }
      ]
    },
    {
      "cell_type": "markdown",
      "source": [
        "# ***Always plot relationship since correlation can capture only linear relationship!***\n",
        "\n",
        "### ***What can't correlation measure?***\n",
        "\n",
        "While the correlation coefficient is a convenient way to quantify the strength of a relationship between two variables, it's far from perfect. In this exercise, you'll explore one of the caveats of the correlation coefficient by examining the relationship between a country's GDP per capita (`gdp_per_cap`) and happiness score.\n",
        "\n",
        "* Create a seaborn `scatterplot` (without a trendline) showing the relationship between `gdp_per_cap` (on the x-axis) and `life_exp` (on the y-axis).\n",
        "\n",
        "* Calculate the correlation between `gdp_per_cap` and `life_exp` and store as `cor`."
      ],
      "metadata": {
        "id": "oC89gGQcMocq"
      }
    },
    {
      "cell_type": "code",
      "source": [
        "import pandas as pd\n",
        "import matplotlib.pyplot as plt\n",
        "import seaborn as sns\n",
        "\n",
        "world_happiness = pd.read_csv('world_happiness.csv').drop(columns='Unnamed: 0')\n",
        "\n",
        "# Scatterplot of gdp_per_cap and life_exp\n",
        "sns.scatterplot(x='gdp_per_cap', y='life_exp', data=world_happiness)\n",
        "# Show plot\n",
        "plt.show()\n",
        "\n",
        "# Correlation between gdp_per_cap and life_exp\n",
        "cor = world_happiness['gdp_per_cap'].corr(world_happiness['life_exp'])\n",
        "\n",
        "print(cor)"
      ],
      "metadata": {
        "colab": {
          "base_uri": "https://localhost:8080/",
          "height": 298
        },
        "id": "VodSdySWrl4P",
        "outputId": "773b88b6-46a1-4426-f90c-fbced4f5e62c"
      },
      "execution_count": 7,
      "outputs": [
        {
          "output_type": "display_data",
          "data": {
            "text/plain": [
              "<Figure size 432x288 with 1 Axes>"
            ],
            "image/png": "[encoded data removed]"
          },
          "metadata": {
            "needs_background": "light"
          }
        },
        {
          "output_type": "stream",
          "name": "stdout",
          "text": [
            "0.7019547642148012\n"
          ]
        }
      ]
    },
    {
      "cell_type": "markdown",
      "source": [
        "* The correlation coefficient can't account for any relationships that aren't linear, regardless of strength.\n",
        "\n",
        "### ***Transforming variables***\n",
        "\n",
        "When variables have skewed distributions, they often require a transformation in order to form a linear relationship with another variable so that correlation can be computed. In this exercise, you'll perform a transformation yourself.\n",
        "\n",
        "\n",
        "* Create a `scatterplot` of `happiness_score` versus `gdp_per_cap` and calculate the correlation between them.\n",
        "\n",
        "* Add a new column to `world_happiness` called `log_gdp_per_cap` that contains the log of `gdp_per_cap`.\n",
        "\n",
        "* Create a seaborn `scatterplot` of `log_gdp_per_cap` and `happiness_score` and calculate the correlation between them."
      ],
      "metadata": {
        "id": "_LYPnlHaZ-9R"
      }
    },
    {
      "cell_type": "code",
      "source": [
        "import numpy as np\n",
        "import pandas as pd\n",
        "import matplotlib.pyplot as plt\n",
        "import seaborn as sns\n",
        "\n",
        "world_happiness = pd.read_csv('world_happiness.csv').drop(columns='Unnamed: 0')\n",
        "\n",
        "# Scatterplot of happiness_score vs. gdp_per_cap\n",
        "sns.scatterplot(y='happiness_score', x='gdp_per_cap', data=world_happiness)\n",
        "plt.show()\n",
        "\n",
        "# Calculate correlation\n",
        "cor = world_happiness['happiness_score'].corr(world_happiness['gdp_per_cap'])\n",
        "print(cor)\n",
        "\n",
        "# Create log_gdp_per_cap column\n",
        "world_happiness['log_gdp_per_cap'] = np.log(world_happiness['gdp_per_cap'])\n",
        "\n",
        "# Scatterplot of log_gdp_per_cap and happiness_score\n",
        "sns.scatterplot(x='log_gdp_per_cap', y='happiness_score', data=world_happiness)\n",
        "plt.show()\n",
        "\n",
        "# Calculate correlation\n",
        "cor = world_happiness['log_gdp_per_cap'].corr(world_happiness['happiness_score'])\n",
        "print(cor)"
      ],
      "metadata": {
        "colab": {
          "base_uri": "https://localhost:8080/",
          "height": 580
        },
        "id": "JEApSIxfwSJL",
        "outputId": "85fa048f-f061-4818-f06b-f2fa1ee6506a"
      },
      "execution_count": 9,
      "outputs": [
        {
          "output_type": "display_data",
          "data": {
            "text/plain": [
              "<Figure size 432x288 with 1 Axes>"
            ],
            "image/png": "[encoded data removed]"
          },
          "metadata": {
            "needs_background": "light"
          }
        },
        {
          "output_type": "stream",
          "name": "stdout",
          "text": [
            "0.727973301222298\n"
          ]
        },
        {
          "output_type": "display_data",
          "data": {
            "text/plain": [
              "<Figure size 432x288 with 1 Axes>"
            ],
            "image/png": "[encoded data removed]"
          },
          "metadata": {
            "needs_background": "light"
          }
        },
        {
          "output_type": "stream",
          "name": "stdout",
          "text": [
            "0.8043146004918288\n"
          ]
        }
      ]
    },
    {
      "cell_type": "markdown",
      "source": [
        "The relationship between GDP per capita and happiness became more linear by applying a log transformation. ***Log transformations are great to use on variables with a skewed distribution***, such as GDP.\n",
        "\n",
        "### ***Does sugar improve happiness?*** (ขี้เกียจทำ data)\n",
        "\n",
        "A new column has been added to `world_happiness` called `grams_sugar_per_day`, which contains the average amount of sugar eaten per person per day in each country. In this exercise, you'll examine the effect of a country's average sugar consumption on its happiness score.\n",
        "\n",
        "* Create a seaborn `scatterplot` showing the relationship between `grams_sugar_per_day` (on the x-axis) and `happiness_score` (on the y-axis).\n",
        "\n",
        "*  Calculate the correlation between `grams_sugar_per_day` and `happiness_score`."
      ],
      "metadata": {
        "id": "GCJyEGszcA0_"
      }
    },
    {
      "cell_type": "code",
      "source": [
        "sns.scatterplot(x='grams_sugar_per_day', y='happiness_score', data=world_happiness)\n",
        "plt.show()\n",
        "\n",
        "# Correlation between grams_sugar_per_day and happiness_score\n",
        "cor = world_happiness['grams_sugar_per_day'].corr(world_happiness['happiness_score'])\n",
        "print(cor)"
      ],
      "metadata": {
        "id": "gW3RXkTadO-T"
      },
      "execution_count": null,
      "outputs": []
    },
    {
      "cell_type": "markdown",
      "source": [
        "![image.png](data:image/png;base64,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)"
      ],
      "metadata": {
        "id": "QkCbD-kedJKV"
      }
    },
    {
      "cell_type": "markdown",
      "source": [
        "If correlation always implied that one thing causes another, people may do some nonsensical things, like eat more sugar to be happier.\n",
        "\n"
      ],
      "metadata": {
        "id": "CppHXhGFdXj9"
      }
    }
  ]
}